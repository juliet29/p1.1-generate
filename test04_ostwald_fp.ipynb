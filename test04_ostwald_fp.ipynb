{
 "cells": [
  {
   "cell_type": "code",
   "execution_count": 2,
   "metadata": {},
   "outputs": [],
   "source": [
    "from fp2graph import *\n",
    "from shapely import Polygon\n",
    "import skimage.measure as meas\n",
    "from sklearn.cluster import KMeans\n",
    "import plotly.express as px\n",
    "import re\n",
    "from enum import Enum\n",
    "\n",
    "from helpers import *"
   ]
  },
  {
   "cell_type": "code",
   "execution_count": 3,
   "metadata": {},
   "outputs": [],
   "source": [
    "PATH = 'plans/fp_ostwald11_f3_2.png'\n",
    "f = FloorPlan2Graph(PATH)"
   ]
  },
  {
   "cell_type": "code",
   "execution_count": 5,
   "metadata": {},
   "outputs": [
    {
     "data": {
      "text/plain": [
       "<module 'matplotlib.pyplot' from '/Users/julietnwagwuume-ezeoke/_UILCode/gqe-phd/gqenv/lib/python3.9/site-packages/matplotlib/pyplot.py'>"
      ]
     },
     "execution_count": 5,
     "metadata": {},
     "output_type": "execute_result"
    },
    {
     "data": {
      "image/png": "[encoded data removed]",
      "text/plain": [
       "<Figure size 640x480 with 1 Axes>"
      ]
     },
     "metadata": {},
     "output_type": "display_data"
    }
   ],
   "source": [
    "f.image2tensor()\n",
    "f.view_plan_image()"
   ]
  },
  {
   "cell_type": "code",
   "execution_count": 6,
   "metadata": {},
   "outputs": [
    {
     "data": {
      "text/plain": [
       "numpy.ndarray"
      ]
     },
     "execution_count": 6,
     "metadata": {},
     "output_type": "execute_result"
    }
   ],
   "source": [
    "type(f.tensor)"
   ]
  },
  {
   "cell_type": "code",
   "execution_count": 8,
   "metadata": {},
   "outputs": [],
   "source": [
    "f.segment_tensor()\n",
    "# f.view_plan_segments()"
   ]
  },
  {
   "cell_type": "code",
   "execution_count": null,
   "metadata": {},
   "outputs": [],
   "source": []
  },
  {
   "cell_type": "code",
   "execution_count": 9,
   "metadata": {},
   "outputs": [
    {
     "data": {
      "text/plain": [
       "array([[8, 8, 8, ..., 8, 8, 8],\n",
       "       [8, 8, 8, ..., 8, 8, 8],\n",
       "       [8, 8, 8, ..., 8, 8, 8],\n",
       "       ...,\n",
       "       [6, 6, 6, ..., 5, 5, 5],\n",
       "       [6, 6, 6, ..., 5, 5, 5],\n",
       "       [6, 6, 6, ..., 5, 5, 5]], dtype=int8)"
      ]
     },
     "execution_count": 9,
     "metadata": {},
     "output_type": "execute_result"
    }
   ],
   "source": [
    "f.tensor_labels"
   ]
  },
  {
   "cell_type": "code",
   "execution_count": 10,
   "metadata": {},
   "outputs": [
    {
     "data": {
      "text/plain": [
       "numpy.ndarray"
      ]
     },
     "execution_count": 10,
     "metadata": {},
     "output_type": "execute_result"
    }
   ],
   "source": [
    "type(f.tensor_labels)"
   ]
  },
  {
   "cell_type": "code",
   "execution_count": 89,
   "metadata": {},
   "outputs": [
    {
     "data": {
      "image/png": "[encoded data removed]",
      "text/plain": [
       "<Figure size 640x480 with 2 Axes>"
      ]
     },
     "metadata": {},
     "output_type": "display_data"
    }
   ],
   "source": [
    "fig, ax = plt.subplots()\n",
    "im = ax.imshow(f.tensor_labels)\n",
    "cbar = ax.figure.colorbar(im, )\n",
    "# plt.bar_label()"
   ]
  },
  {
   "cell_type": "code",
   "execution_count": 90,
   "metadata": {},
   "outputs": [
    {
     "data": {
      "text/html": [
       "<div>\n",
       "<style scoped>\n",
       "    .dataframe tbody tr th:only-of-type {\n",
       "        vertical-align: middle;\n",
       "    }\n",
       "\n",
       "    .dataframe tbody tr th {\n",
       "        vertical-align: top;\n",
       "    }\n",
       "\n",
       "    .dataframe thead th {\n",
       "        text-align: right;\n",
       "    }\n",
       "</style>\n",
       "<table border=\"1\" class=\"dataframe\">\n",
       "  <thead>\n",
       "    <tr style=\"text-align: right;\">\n",
       "      <th></th>\n",
       "      <th>R</th>\n",
       "      <th>G</th>\n",
       "      <th>B</th>\n",
       "      <th>Label</th>\n",
       "      <th>X Pos</th>\n",
       "      <th>Y Pos</th>\n",
       "    </tr>\n",
       "  </thead>\n",
       "  <tbody>\n",
       "    <tr>\n",
       "      <th>0</th>\n",
       "      <td>0</td>\n",
       "      <td>0</td>\n",
       "      <td>0</td>\n",
       "      <td>8</td>\n",
       "      <td>0</td>\n",
       "      <td>0</td>\n",
       "    </tr>\n",
       "    <tr>\n",
       "      <th>1</th>\n",
       "      <td>0</td>\n",
       "      <td>0</td>\n",
       "      <td>0</td>\n",
       "      <td>8</td>\n",
       "      <td>0</td>\n",
       "      <td>1</td>\n",
       "    </tr>\n",
       "    <tr>\n",
       "      <th>2</th>\n",
       "      <td>0</td>\n",
       "      <td>0</td>\n",
       "      <td>0</td>\n",
       "      <td>8</td>\n",
       "      <td>0</td>\n",
       "      <td>2</td>\n",
       "    </tr>\n",
       "    <tr>\n",
       "      <th>3</th>\n",
       "      <td>0</td>\n",
       "      <td>0</td>\n",
       "      <td>0</td>\n",
       "      <td>8</td>\n",
       "      <td>0</td>\n",
       "      <td>3</td>\n",
       "    </tr>\n",
       "    <tr>\n",
       "      <th>4</th>\n",
       "      <td>0</td>\n",
       "      <td>0</td>\n",
       "      <td>0</td>\n",
       "      <td>8</td>\n",
       "      <td>0</td>\n",
       "      <td>4</td>\n",
       "    </tr>\n",
       "    <tr>\n",
       "      <th>...</th>\n",
       "      <td>...</td>\n",
       "      <td>...</td>\n",
       "      <td>...</td>\n",
       "      <td>...</td>\n",
       "      <td>...</td>\n",
       "      <td>...</td>\n",
       "    </tr>\n",
       "    <tr>\n",
       "      <th>49339</th>\n",
       "      <td>255</td>\n",
       "      <td>127</td>\n",
       "      <td>0</td>\n",
       "      <td>5</td>\n",
       "      <td>191</td>\n",
       "      <td>252</td>\n",
       "    </tr>\n",
       "    <tr>\n",
       "      <th>49340</th>\n",
       "      <td>255</td>\n",
       "      <td>127</td>\n",
       "      <td>0</td>\n",
       "      <td>5</td>\n",
       "      <td>191</td>\n",
       "      <td>253</td>\n",
       "    </tr>\n",
       "    <tr>\n",
       "      <th>49341</th>\n",
       "      <td>255</td>\n",
       "      <td>127</td>\n",
       "      <td>0</td>\n",
       "      <td>5</td>\n",
       "      <td>191</td>\n",
       "      <td>254</td>\n",
       "    </tr>\n",
       "    <tr>\n",
       "      <th>49342</th>\n",
       "      <td>255</td>\n",
       "      <td>127</td>\n",
       "      <td>0</td>\n",
       "      <td>5</td>\n",
       "      <td>191</td>\n",
       "      <td>255</td>\n",
       "    </tr>\n",
       "    <tr>\n",
       "      <th>49343</th>\n",
       "      <td>255</td>\n",
       "      <td>127</td>\n",
       "      <td>0</td>\n",
       "      <td>5</td>\n",
       "      <td>191</td>\n",
       "      <td>256</td>\n",
       "    </tr>\n",
       "  </tbody>\n",
       "</table>\n",
       "<p>49344 rows × 6 columns</p>\n",
       "</div>"
      ],
      "text/plain": [
       "         R    G  B  Label  X Pos  Y Pos\n",
       "0        0    0  0      8      0      0\n",
       "1        0    0  0      8      0      1\n",
       "2        0    0  0      8      0      2\n",
       "3        0    0  0      8      0      3\n",
       "4        0    0  0      8      0      4\n",
       "...    ...  ... ..    ...    ...    ...\n",
       "49339  255  127  0      5    191    252\n",
       "49340  255  127  0      5    191    253\n",
       "49341  255  127  0      5    191    254\n",
       "49342  255  127  0      5    191    255\n",
       "49343  255  127  0      5    191    256\n",
       "\n",
       "[49344 rows x 6 columns]"
      ]
     },
     "execution_count": 90,
     "metadata": {},
     "output_type": "execute_result"
    }
   ],
   "source": [
    "f.segment_tensor()\n",
    "df = f.df\n",
    "# df[\"Index\"] = df.index\n",
    "\n",
    "df[\"X Pos\"] = np.indices(f.tensor.shape[0:2])[0].reshape(-1)\n",
    "df[\"Y Pos\"] = np.indices(f.tensor.shape[0:2])[1].reshape(-1)\n",
    "\n",
    "df"
   ]
  },
  {
   "cell_type": "code",
   "execution_count": 91,
   "metadata": {},
   "outputs": [
    {
     "data": {
      "text/plain": [
       "array([[8, 8, 8, ..., 8, 8, 8],\n",
       "       [8, 8, 8, ..., 8, 8, 8],\n",
       "       [8, 8, 8, ..., 8, 8, 8],\n",
       "       ...,\n",
       "       [6, 6, 6, ..., 5, 5, 5],\n",
       "       [6, 6, 6, ..., 5, 5, 5],\n",
       "       [6, 6, 6, ..., 5, 5, 5]], dtype=int8)"
      ]
     },
     "execution_count": 91,
     "metadata": {},
     "output_type": "execute_result"
    }
   ],
   "source": [
    "f.tensor_labels"
   ]
  },
  {
   "cell_type": "code",
   "execution_count": 92,
   "metadata": {},
   "outputs": [],
   "source": [
    "mask = (df['R'] == 177 ) & (df[\"G\"] == 177) & (df[\"B\"] == 177)\n",
    "\n",
    "DOOR_LABEL = 100\n",
    "labels = []\n",
    "for ix, row in df.iterrows():\n",
    "    if mask.loc[ix]:\n",
    "        df.at[ix, \"Label\"] = DOOR_LABEL"
   ]
  },
  {
   "cell_type": "code",
   "execution_count": 93,
   "metadata": {},
   "outputs": [
    {
     "data": {
      "text/plain": [
       "array([  8,   3, 100,   2,   7,   4,   6,   5], dtype=int8)"
      ]
     },
     "execution_count": 93,
     "metadata": {},
     "output_type": "execute_result"
    }
   ],
   "source": [
    "df[\"Label\"].unique()"
   ]
  },
  {
   "cell_type": "markdown",
   "metadata": {},
   "source": [
    "## splitting doors"
   ]
  },
  {
   "cell_type": "code",
   "execution_count": 98,
   "metadata": {},
   "outputs": [
    {
     "name": "stderr",
     "output_type": "stream",
     "text": [
      "/Users/julietnwagwuume-ezeoke/_UILCode/gqe-phd/gqenv/lib/python3.9/site-packages/sklearn/cluster/_kmeans.py:1416: FutureWarning: The default value of `n_init` will change from 10 to 'auto' in 1.4. Set the value of `n_init` explicitly to suppress the warning\n",
      "  super()._check_params_vs_input(X, default_n_init=10)\n"
     ]
    },
    {
     "data": {
      "text/plain": [
       "<matplotlib.collections.PathCollection at 0x133143160>"
      ]
     },
     "execution_count": 98,
     "metadata": {},
     "output_type": "execute_result"
    },
    {
     "data": {
      "image/png": "[encoded data removed]",
      "text/plain": [
       "<Figure size 640x480 with 1 Axes>"
      ]
     },
     "metadata": {},
     "output_type": "display_data"
    }
   ],
   "source": [
    "tensor_labels = np.array(df[\"Label\"], dtype=np.int64).reshape(f.tensor_shape[:2])\n",
    "\n",
    "indices = np.argwhere(np.isclose(tensor_labels, DOOR_LABEL))\n",
    "indices_split = np.where(np.isclose(tensor_labels, DOOR_LABEL))\n",
    "indices\n",
    "\n",
    "# TODO make this so dont have to get init clusers\n",
    "kmeans = KMeans(n_clusters=6)\n",
    "y_pred = kmeans.fit_predict(indices)\n",
    "\n",
    "fig = plt.figure()\n",
    "ax = fig.add_subplot(111)\n",
    "ax.scatter(indices_split[0], indices_split[1], c=y_pred)"
   ]
  },
  {
   "cell_type": "code",
   "execution_count": 107,
   "metadata": {},
   "outputs": [],
   "source": [
    "new_tensor_labels = f.tensor_labels.copy()\n",
    "new_tensor_labels = new_tensor_labels.astype(np.int64)\n",
    "\n",
    "for x, y, door_label in zip(indices_split[0], indices_split[1], y_pred):\n",
    "    calculated_value = np.int64(177) + (door_label * 10)\n",
    "    # print(f\"x: {x}, y: {y}, door_label: {door_label}, calculated_value: {calculated_value}\")\n",
    "    new_tensor_labels[x, y] = calculated_value\n",
    "\n",
    "    # new_tensor_labels[x,y] = np.int64(177) + (door_label*10) # TODO make a higher number, like 100... based on number of expected rooms..\n",
    "\n",
    "props = meas.regionprops(new_tensor_labels, f.tensor)"
   ]
  },
  {
   "cell_type": "code",
   "execution_count": 80,
   "metadata": {},
   "outputs": [],
   "source": [
    "from matplotlib.colors import Normalize, LogNorm"
   ]
  },
  {
   "cell_type": "code",
   "execution_count": 110,
   "metadata": {},
   "outputs": [
    {
     "data": {
      "text/plain": [
       "array([  2,   3,   4,   5,   6,   7,   8, 100])"
      ]
     },
     "execution_count": 110,
     "metadata": {},
     "output_type": "execute_result"
    }
   ],
   "source": [
    "np.unique(tensor_labels)"
   ]
  },
  {
   "cell_type": "code",
   "execution_count": 109,
   "metadata": {},
   "outputs": [
    {
     "data": {
      "image/png": "[encoded data removed]",
      "text/plain": [
       "<Figure size 640x480 with 2 Axes>"
      ]
     },
     "metadata": {},
     "output_type": "display_data"
    }
   ],
   "source": [
    "norm = LogNorm(vmin=np.min(label_nums), vmax=np.max(label_nums))\n",
    "# norm = Normalize(vmin=3, vmax=np.max(label_nums))\n",
    "\n",
    "# Create a colormap (adjust cmap as needed)\n",
    "cmap = plt.get_cmap(\"turbo\")\n",
    "\n",
    "fig, ax = plt.subplots()\n",
    "im = ax.imshow(new_tensor_labels, cmap=cmap, norm=norm)\n",
    "\n",
    "# Add colorbar\n",
    "cbar = ax.figure.colorbar(im)\n",
    "# harder to see when the door labels are very distinct from the other labels. this is jist a plotting issue that can be fixed with scaling later though "
   ]
  },
  {
   "cell_type": "code",
   "execution_count": 13,
   "metadata": {},
   "outputs": [],
   "source": [
    "def rgb_str_to_rgba(rgb_str):\n",
    "    # Extract numeric values from the string using regular expression\n",
    "    rgb_values = [int(value) for value in re.findall(r'\\d+', rgb_str)]\n",
    "    \n",
    "    # Convert to RGBA format\n",
    "    rgba_values = [value / 255 for value in rgb_values] + [1.0]  # Normalize RGB values to the range [0, 1]\n",
    "    \n",
    "    return tuple(rgba_values)\n",
    "\n"
   ]
  },
  {
   "cell_type": "markdown",
   "metadata": {},
   "source": [
    "### making regions"
   ]
  },
  {
   "cell_type": "code",
   "execution_count": 57,
   "metadata": {},
   "outputs": [],
   "source": [
    "class RegionType(Enum):\n",
    "    ROOM = 0\n",
    "    DOOR = 1\n",
    "\n",
    "class newRegion():\n",
    "    bbox:list = None\n",
    "    coords:list = None\n",
    "    shape:Polygon = None\n",
    "    centroid:tuple = None\n",
    "    unique_colors:set = None\n",
    "    type:RegionType = None"
   ]
  },
  {
   "cell_type": "code",
   "execution_count": 15,
   "metadata": {},
   "outputs": [
    {
     "name": "stdout",
     "output_type": "stream",
     "text": [
      "0 {(255, 255, 0), (0, 0, 0)} 3720.0 2\n",
      "1 {(0, 0, 0), (255, 0, 0)} 14336.0 3\n",
      "2 {(255, 0, 127), (0, 0, 0)} 3660.0 4\n",
      "3 {(255, 127, 0), (0, 0, 0)} 5304.0 5\n",
      "4 {(0, 255, 0), (0, 0, 0)} 5304.0 6\n",
      "5 {(0, 0, 0), (0, 0, 255)} 12928.0 7\n",
      "6 {(0, 0, 0)} 31868.0 8\n",
      "7 {(177, 177, 177)} 126.0 100\n",
      "8 {(177, 177, 177)} 126.0 101\n",
      "9 {(177, 177, 177)} 126.0 102\n",
      "10 {(177, 177, 177)} 126.0 103\n",
      "11 {(177, 177, 177)} 126.0 104\n",
      "12 {(177, 177, 177)} 126.0 105\n"
     ]
    },
    {
     "data": {
      "image/png": "[encoded data removed]",
      "text/plain": [
       "<Figure size 576x432 with 1 Axes>"
      ]
     },
     "metadata": {},
     "output_type": "display_data"
    }
   ],
   "source": [
    "fig = plt.figure(  dpi=90)\n",
    "ax = fig.add_subplot(111)  \n",
    "\n",
    "n_colors = 30\n",
    "\n",
    "colors = px.colors.sample_colorscale(\"turbo\", [n/(n_colors -1) for n in range(n_colors)])\n",
    "good_colors = [rgb_str_to_rgba(r) for r in colors]\n",
    "\n",
    "regions = []\n",
    "for ix, prop in enumerate(props):\n",
    "    r = newRegion()\n",
    "\n",
    "    int0 = prop.image_intensity\n",
    "    s = int0.shape\n",
    "    int01 = np.reshape(int0, (s[0] * s[1], 3))\n",
    "    unique_tuples = {tuple(arr) for arr in int01}\n",
    "    r.unique_colors = unique_tuples\n",
    "    \n",
    "\n",
    "    r.coords = create_coords(Bbox(prop.bbox))\n",
    "    r.shape = Polygon(r.coords)\n",
    "    r.centroid = (r.shape.centroid.x, r.shape.centroid.y)\n",
    "    r.label = prop.label\n",
    "    r.area = prop.bbox_area\n",
    "    print(ix, unique_tuples, prop.bbox_area, prop.label)\n",
    "\n",
    "    # TODO code this as doors\n",
    "    if r.unique_colors == {(177, 177, 177)}:\n",
    "        r.type = RegionType.DOOR\n",
    "    else:\n",
    "        r.type = RegionType.ROOM\n",
    "\n",
    "    # ignore all regions that are not real rooms \n",
    "    if r.unique_colors != {(0,0,0)}:\n",
    "        regions.append(r)\n",
    "\n",
    "    \n",
    "\n",
    "    if ix != 6: \n",
    "        splt.plot_polygon(r.shape, ax=ax, alpha=0.5, color=good_colors[ix])\n",
    "        ax.annotate(str(r.label), r.centroid)\n",
    "    "
   ]
  },
  {
   "cell_type": "code",
   "execution_count": 20,
   "metadata": {},
   "outputs": [
    {
     "name": "stdout",
     "output_type": "stream",
     "text": [
      "False\n",
      "False\n"
     ]
    }
   ],
   "source": [
    "# 100 touches 3, 4\n",
    "# 6=100, 3=5, 2=4\n",
    "\n",
    "print(regions[6].shape.touches(regions[3].shape))\n",
    "print(regions[6].shape.touches(regions[2].shape))"
   ]
  },
  {
   "cell_type": "code",
   "execution_count": 21,
   "metadata": {},
   "outputs": [
    {
     "name": "stdout",
     "output_type": "stream",
     "text": [
      "True\n",
      "True\n"
     ]
    }
   ],
   "source": [
    "\n",
    "print(regions[6].shape.intersects(regions[3].shape))\n",
    "print(regions[6].shape.intersects(regions[2].shape))"
   ]
  },
  {
   "cell_type": "code",
   "execution_count": 102,
   "metadata": {},
   "outputs": [
    {
     "name": "stdout",
     "output_type": "stream",
     "text": [
      "2FF11F212\n",
      "FF2F11212\n"
     ]
    }
   ],
   "source": [
    "print(regions[6].shape.relate(regions[1].shape))\n",
    "print(regions[6].shape.relate(regions[2].shape))"
   ]
  },
  {
   "cell_type": "code",
   "execution_count": 100,
   "metadata": {},
   "outputs": [
    {
     "name": "stdout",
     "output_type": "stream",
     "text": [
      "False\n",
      "False\n"
     ]
    }
   ],
   "source": [
    "print(regions[11].shape.intersects(regions[1].shape))\n",
    "print(regions[11].shape.intersects(regions[2].shape))"
   ]
  },
  {
   "cell_type": "code",
   "execution_count": 103,
   "metadata": {},
   "outputs": [
    {
     "name": "stdout",
     "output_type": "stream",
     "text": [
      "FF2FF1212\n",
      "FF2FF1212\n"
     ]
    }
   ],
   "source": [
    "print(regions[11].shape.relate(regions[1].shape))\n",
    "print(regions[11].shape.relate(regions[2].shape))"
   ]
  },
  {
   "cell_type": "code",
   "execution_count": 97,
   "metadata": {},
   "outputs": [
    {
     "name": "stdout",
     "output_type": "stream",
     "text": [
      "False\n",
      "False\n"
     ]
    }
   ],
   "source": [
    "# 102 touches 4, 5\n",
    "print(regions[8].shape.touches(regions[2].shape))\n",
    "print(regions[8].shape.touches(regions[3].shape))"
   ]
  },
  {
   "cell_type": "code",
   "execution_count": 101,
   "metadata": {},
   "outputs": [
    {
     "name": "stdout",
     "output_type": "stream",
     "text": [
      "True\n",
      "True\n"
     ]
    }
   ],
   "source": [
    "print(regions[8].shape.intersects(regions[2].shape))\n",
    "print(regions[8].shape.intersects(regions[3].shape))"
   ]
  },
  {
   "cell_type": "code",
   "execution_count": 19,
   "metadata": {},
   "outputs": [
    {
     "name": "stdout",
     "output_type": "stream",
     "text": [
      "0: label: 2\n",
      "1: label: 3\n",
      "2: label: 4\n",
      "3: label: 5\n",
      "4: label: 6\n",
      "5: label: 7\n",
      "6: label: 100\n",
      "7: label: 101\n",
      "8: label: 102\n",
      "9: label: 103\n",
      "10: label: 104\n",
      "11: label: 105\n"
     ]
    }
   ],
   "source": [
    "print_many_attributes_from_instances(regions, [\"label\"])"
   ]
  },
  {
   "cell_type": "code",
   "execution_count": null,
   "metadata": {},
   "outputs": [],
   "source": [
    "# see if can determine relationship between one shape and all others.. -> used a graph to do this .. but now want a bit different \n",
    "# only check adjacency for nodes with the label of door.. \n",
    "# but lets first explore relationships... "
   ]
  },
  {
   "cell_type": "code",
   "execution_count": 83,
   "metadata": {},
   "outputs": [
    {
     "name": "stdout",
     "output_type": "stream",
     "text": [
      "unique_colors for newRegion: {(255, 255, 0), (0, 0, 0)}\n",
      "unique_colors for newRegion: {(0, 0, 0), (255, 0, 0)}\n",
      "unique_colors for newRegion: {(255, 0, 127), (0, 0, 0)}\n",
      "unique_colors for newRegion: {(255, 127, 0), (0, 0, 0)}\n",
      "unique_colors for newRegion: {(0, 255, 0), (0, 0, 0)}\n",
      "unique_colors for newRegion: {(0, 0, 0), (0, 0, 255)}\n",
      "unique_colors for newRegion: {(177, 177, 177)}\n",
      "unique_colors for newRegion: {(177, 177, 177)}\n",
      "unique_colors for newRegion: {(177, 177, 177)}\n",
      "unique_colors for newRegion: {(177, 177, 177)}\n",
      "unique_colors for newRegion: {(177, 177, 177)}\n",
      "unique_colors for newRegion: {(177, 177, 177)}\n"
     ]
    }
   ],
   "source": [
    "print_attribute_from_instances(regions, \"unique_colors\")"
   ]
  },
  {
   "cell_type": "code",
   "execution_count": 81,
   "metadata": {},
   "outputs": [
    {
     "name": "stdout",
     "output_type": "stream",
     "text": [
      "unique_colors: {(177, 177, 177)}\n",
      "coords: [(205, 57), (223, 57), (223, 64), (205, 64)]\n",
      "shape: POLYGON ((205 57, 223 57, 223 64, 205 64, 205 57))\n",
      "centroid: (214.0, 60.5)\n",
      "label: 100\n",
      "area: 126.0\n"
     ]
    }
   ],
   "source": [
    "print_keys_values(regions[6])"
   ]
  },
  {
   "cell_type": "markdown",
   "metadata": {},
   "source": [
    "# test "
   ]
  },
  {
   "cell_type": "code",
   "execution_count": 18,
   "metadata": {},
   "outputs": [
    {
     "ename": "AttributeError",
     "evalue": "'FloorPlan2Graph' object has no attribute 'regions'",
     "output_type": "error",
     "traceback": [
      "\u001b[0;31m---------------------------------------------------------------------------\u001b[0m",
      "\u001b[0;31mAttributeError\u001b[0m                            Traceback (most recent call last)",
      "Cell \u001b[0;32mIn[18], line 1\u001b[0m\n\u001b[0;32m----> 1\u001b[0m \u001b[38;5;28mlen\u001b[39m(\u001b[43mf\u001b[49m\u001b[38;5;241;43m.\u001b[39;49m\u001b[43mregions\u001b[49m)\n",
      "\u001b[0;31mAttributeError\u001b[0m: 'FloorPlan2Graph' object has no attribute 'regions'"
     ]
    }
   ],
   "source": [
    "len(f.regions)"
   ]
  },
  {
   "cell_type": "code",
   "execution_count": null,
   "metadata": {},
   "outputs": [
    {
     "data": {
      "text/plain": [
       "[<skimage.measure._regionprops.RegionProperties at 0x12278f2b0>,\n",
       " <skimage.measure._regionprops.RegionProperties at 0x12278f6a0>,\n",
       " <skimage.measure._regionprops.RegionProperties at 0x12278f2e0>,\n",
       " <skimage.measure._regionprops.RegionProperties at 0x12278f280>,\n",
       " <skimage.measure._regionprops.RegionProperties at 0x1227f1f10>,\n",
       " <skimage.measure._regionprops.RegionProperties at 0x127013220>,\n",
       " <skimage.measure._regionprops.RegionProperties at 0x12278fa90>,\n",
       " <skimage.measure._regionprops.RegionProperties at 0x12278f3a0>]"
      ]
     },
     "execution_count": 24,
     "metadata": {},
     "output_type": "execute_result"
    }
   ],
   "source": [
    "# dont want to plot regions with label 8 or 1 with shapely \n",
    "all_region_props = meas.regionprops(f.tensor_labels, f.tensor)\n",
    "all_region_props"
   ]
  },
  {
   "cell_type": "code",
   "execution_count": null,
   "metadata": {},
   "outputs": [],
   "source": [
    "f.regions = f.regions[1:7]"
   ]
  },
  {
   "cell_type": "code",
   "execution_count": null,
   "metadata": {},
   "outputs": [
    {
     "data": {
      "text/plain": [
       "[<fp2graph.Region at 0x1221a76a0>,\n",
       " <fp2graph.Region at 0x1221a77f0>,\n",
       " <fp2graph.Region at 0x1221a7880>,\n",
       " <fp2graph.Region at 0x1221a78e0>]"
      ]
     },
     "execution_count": 39,
     "metadata": {},
     "output_type": "execute_result"
    }
   ],
   "source": [
    "f.regions"
   ]
  },
  {
   "cell_type": "code",
   "execution_count": null,
   "metadata": {},
   "outputs": [
    {
     "data": {
      "image/png": "[encoded data removed]",
      "text/plain": [
       "<Figure size 720x444.984 with 1 Axes>"
      ]
     },
     "execution_count": 40,
     "metadata": {},
     "output_type": "execute_result"
    },
    {
     "data": {
      "image/png": "[encoded data removed]",
      "text/plain": [
       "<Figure size 720x444.984 with 1 Axes>"
      ]
     },
     "metadata": {},
     "output_type": "display_data"
    }
   ],
   "source": [
    "f.view_plan_shapely()"
   ]
  },
  {
   "cell_type": "code",
   "execution_count": null,
   "metadata": {},
   "outputs": [
    {
     "data": {
      "text/plain": [
       "array([[[0, 0, 0],\n",
       "        [0, 0, 0],\n",
       "        [0, 0, 0],\n",
       "        ...,\n",
       "        [0, 0, 0],\n",
       "        [0, 0, 0],\n",
       "        [0, 0, 0]],\n",
       "\n",
       "       [[0, 0, 0],\n",
       "        [0, 0, 0],\n",
       "        [0, 0, 0],\n",
       "        ...,\n",
       "        [0, 0, 0],\n",
       "        [0, 0, 0],\n",
       "        [0, 0, 0]],\n",
       "\n",
       "       [[0, 0, 0],\n",
       "        [0, 0, 0],\n",
       "        [0, 0, 0],\n",
       "        ...,\n",
       "        [0, 0, 0],\n",
       "        [0, 0, 0],\n",
       "        [0, 0, 0]],\n",
       "\n",
       "       ...,\n",
       "\n",
       "       [[0, 0, 0],\n",
       "        [0, 0, 0],\n",
       "        [0, 0, 0],\n",
       "        ...,\n",
       "        [0, 0, 0],\n",
       "        [0, 0, 0],\n",
       "        [0, 0, 0]],\n",
       "\n",
       "       [[0, 0, 0],\n",
       "        [0, 0, 0],\n",
       "        [0, 0, 0],\n",
       "        ...,\n",
       "        [0, 0, 0],\n",
       "        [0, 0, 0],\n",
       "        [0, 0, 0]],\n",
       "\n",
       "       [[0, 0, 0],\n",
       "        [0, 0, 0],\n",
       "        [0, 0, 0],\n",
       "        ...,\n",
       "        [0, 0, 0],\n",
       "        [0, 0, 0],\n",
       "        [0, 0, 0]]], dtype=uint8)"
      ]
     },
     "execution_count": 28,
     "metadata": {},
     "output_type": "execute_result"
    }
   ],
   "source": [
    "# based on image_intensity prop (has to update meas.region_props to recive unlabeled image), can see that 0 and 7 are the regions of interest. with 0 being the doors. although can search after the fact, can also consider dictionary, or including the values in \n",
    "all_region_props[7].image_intensity"
   ]
  },
  {
   "cell_type": "code",
   "execution_count": null,
   "metadata": {},
   "outputs": [
    {
     "name": "stdout",
     "output_type": "stream",
     "text": [
      "\u001b[0;31mType:\u001b[0m        RegionProperties\n",
      "\u001b[0;31mString form:\u001b[0m <skimage.measure._regionprops.RegionProperties object at 0x122791a60>\n",
      "\u001b[0;31mFile:\u001b[0m        ~/_UILCode/gqe-phd/gqenv/lib/python3.9/site-packages/skimage/measure/_regionprops.py\n",
      "\u001b[0;31mDocstring:\u001b[0m  \n",
      "Please refer to `skimage.measure.regionprops` for more information\n",
      "on the available region properties.\n"
     ]
    }
   ],
   "source": [
    "all_region_props[0]?"
   ]
  },
  {
   "cell_type": "code",
   "execution_count": null,
   "metadata": {},
   "outputs": [
    {
     "ename": "IndexError",
     "evalue": "list index out of range",
     "output_type": "error",
     "traceback": [
      "\u001b[0;31m---------------------------------------------------------------------------\u001b[0m",
      "\u001b[0;31mIndexError\u001b[0m                                Traceback (most recent call last)",
      "Cell \u001b[0;32mIn[7], line 2\u001b[0m\n\u001b[1;32m      1\u001b[0m f\u001b[38;5;241m.\u001b[39marray2shapely()\n\u001b[0;32m----> 2\u001b[0m _ \u001b[38;5;241m=\u001b[39m \u001b[43mf\u001b[49m\u001b[38;5;241;43m.\u001b[39;49m\u001b[43mview_plan_shapely\u001b[49m\u001b[43m(\u001b[49m\u001b[43m)\u001b[49m\n",
      "File \u001b[0;32m~/_UILCode/gqe-phd/p1.1-generate/fp2graph.py:175\u001b[0m, in \u001b[0;36mFloorPlan2Graph.view_plan_shapely\u001b[0;34m(self)\u001b[0m\n\u001b[1;32m    172\u001b[0m ax \u001b[38;5;241m=\u001b[39m fig\u001b[38;5;241m.\u001b[39madd_subplot(\u001b[38;5;241m111\u001b[39m)\n\u001b[1;32m    174\u001b[0m \u001b[38;5;28;01mfor\u001b[39;00m ix, region \u001b[38;5;129;01min\u001b[39;00m \u001b[38;5;28menumerate\u001b[39m(\u001b[38;5;28mself\u001b[39m\u001b[38;5;241m.\u001b[39mregions):\n\u001b[0;32m--> 175\u001b[0m     splt\u001b[38;5;241m.\u001b[39mplot_polygon(region\u001b[38;5;241m.\u001b[39mshape, ax\u001b[38;5;241m=\u001b[39max, alpha\u001b[38;5;241m=\u001b[39m\u001b[38;5;241m0.5\u001b[39m, color\u001b[38;5;241m=\u001b[39m\u001b[43mCOLORWAY\u001b[49m\u001b[43m[\u001b[49m\u001b[43mix\u001b[49m\u001b[43m]\u001b[49m)\n\u001b[1;32m    176\u001b[0m     ax\u001b[38;5;241m.\u001b[39mannotate(\u001b[38;5;28mstr\u001b[39m(ix), region\u001b[38;5;241m.\u001b[39mcentroid)\n\u001b[1;32m    178\u001b[0m \u001b[38;5;28;01mreturn\u001b[39;00m fig\n",
      "\u001b[0;31mIndexError\u001b[0m: list index out of range"
     ]
    },
    {
     "data": {
      "image/png": "[encoded data removed]",
      "text/plain": [
       "<Figure size 720x444.984 with 1 Axes>"
      ]
     },
     "metadata": {},
     "output_type": "display_data"
    }
   ],
   "source": [
    "f.array2shapely()\n",
    "_ = f.view_plan_shapely()"
   ]
  }
 ],
 "metadata": {
  "kernelspec": {
   "display_name": "gqenv",
   "language": "python",
   "name": "python3"
  },
  "language_info": {
   "codemirror_mode": {
    "name": "ipython",
    "version": 3
   },
   "file_extension": ".py",
   "mimetype": "text/x-python",
   "name": "python",
   "nbconvert_exporter": "python",
   "pygments_lexer": "ipython3",
   "version": "3.9.15"
  }
 },
 "nbformat": 4,
 "nbformat_minor": 2
}
