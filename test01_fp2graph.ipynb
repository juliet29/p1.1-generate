{
 "cells": [
  {
   "cell_type": "code",
   "execution_count": 2,
   "metadata": {},
   "outputs": [],
   "source": [
    "from shapely import Polygon\n",
    "\n",
    "from PIL import Image\n",
    "import matplotlib.pyplot as plt\n",
    "import numpy as np"
   ]
  },
  {
   "cell_type": "code",
   "execution_count": 3,
   "metadata": {},
   "outputs": [],
   "source": [
    "import skimage.data as data\n",
    "import skimage.segmentation as seg\n",
    "from skimage.segmentation import mark_boundaries\n",
    "import skimage.measure as meas\n",
    "\n",
    "import imageio.v3 as iio\n",
    "import shapely.plotting as splt\n",
    "import networkx as nx\n"
   ]
  },
  {
   "cell_type": "code",
   "execution_count": 4,
   "metadata": {},
   "outputs": [
    {
     "name": "stdout",
     "output_type": "stream",
     "text": [
      "{'dpi': (72.009, 72.009), 'srgb': 0, 'gamma': 0.45455, 'mode': 'RGBA', 'shape': (258, 82)}\n"
     ]
    }
   ],
   "source": [
    "PATH = 'plans/fp02.png'\n",
    "metadata = iio.immeta(PATH)\n",
    "print(metadata)\n",
    "# fp01 = imageio.v3.imread('plans/fp01.png', pilmode='RGB')\n",
    "# fp01 = iio.imread(PATH)\n",
    "fp01 = iio.imread(PATH, pilmode='RGB')"
   ]
  },
  {
   "cell_type": "code",
   "execution_count": 5,
   "metadata": {},
   "outputs": [
    {
     "data": {
      "text/plain": [
       "(82, 258, 3)"
      ]
     },
     "execution_count": 5,
     "metadata": {},
     "output_type": "execute_result"
    }
   ],
   "source": [
    "fp01.shape"
   ]
  },
  {
   "cell_type": "code",
   "execution_count": 6,
   "metadata": {},
   "outputs": [
    {
     "data": {
      "text/plain": [
       "(258, 3)"
      ]
     },
     "execution_count": 6,
     "metadata": {},
     "output_type": "execute_result"
    }
   ],
   "source": [
    "fp01[0].shape"
   ]
  },
  {
   "cell_type": "code",
   "execution_count": 7,
   "metadata": {},
   "outputs": [
    {
     "data": {
      "text/plain": [
       "<matplotlib.image.AxesImage at 0x1275e5580>"
      ]
     },
     "execution_count": 7,
     "metadata": {},
     "output_type": "execute_result"
    },
    {
     "data": {
      "image/png": "[encoded data removed]",
      "text/plain": [
       "<Figure size 640x480 with 1 Axes>"
      ]
     },
     "metadata": {},
     "output_type": "display_data"
    }
   ],
   "source": [
    "plt.imshow(fp01)"
   ]
  },
  {
   "cell_type": "code",
   "execution_count": 8,
   "metadata": {},
   "outputs": [
    {
     "data": {
      "image/png": "[encoded data removed]",
      "text/plain": [
       "<Figure size 640x480 with 1 Axes>"
      ]
     },
     "metadata": {},
     "output_type": "display_data"
    }
   ],
   "source": [
    "fig, ax = plt.subplots(1, 1)\n",
    "ax.hist(fp01.ravel(), bins=256, range=[0, 255])\n",
    "ax.set_xlim(0, 256);\n",
    "# very discrete locations which is good -> potentially very clear "
   ]
  },
  {
   "cell_type": "code",
   "execution_count": 9,
   "metadata": {},
   "outputs": [
    {
     "data": {
      "text/plain": [
       "(82, 258, 3)"
      ]
     },
     "execution_count": 9,
     "metadata": {},
     "output_type": "execute_result"
    }
   ],
   "source": [
    "fp01.shape"
   ]
  },
  {
   "cell_type": "markdown",
   "metadata": {},
   "source": [
    "### SLIC algorithm"
   ]
  },
  {
   "cell_type": "code",
   "execution_count": 10,
   "metadata": {},
   "outputs": [
    {
     "data": {
      "text/plain": [
       "array([[1, 1, 1, ..., 3, 3, 3],\n",
       "       [1, 1, 1, ..., 3, 3, 3],\n",
       "       [1, 1, 1, ..., 3, 3, 3],\n",
       "       ...,\n",
       "       [1, 1, 1, ..., 3, 3, 3],\n",
       "       [1, 1, 1, ..., 3, 3, 3],\n",
       "       [1, 1, 1, ..., 3, 3, 3]])"
      ]
     },
     "execution_count": 10,
     "metadata": {},
     "output_type": "execute_result"
    }
   ],
   "source": [
    "# try unsupervised segmentation \n",
    "fp01_slic = seg.slic(fp01, n_segments=4, channel_axis=2)\n",
    "fp01_slic"
   ]
  },
  {
   "cell_type": "code",
   "execution_count": 11,
   "metadata": {},
   "outputs": [
    {
     "data": {
      "text/plain": [
       "array([1, 2, 3])"
      ]
     },
     "execution_count": 11,
     "metadata": {},
     "output_type": "execute_result"
    }
   ],
   "source": [
    "np.unique(fp01_slic)"
   ]
  },
  {
   "cell_type": "code",
   "execution_count": 12,
   "metadata": {},
   "outputs": [
    {
     "data": {
      "text/plain": [
       "{'label': array([1, 2, 3]),\n",
       " 'bbox-0': array([0, 0, 0]),\n",
       " 'bbox-1': array([  0,  87, 171]),\n",
       " 'bbox-2': array([82, 82, 82]),\n",
       " 'bbox-3': array([ 87, 171, 258])}"
      ]
     },
     "execution_count": 12,
     "metadata": {},
     "output_type": "execute_result"
    }
   ],
   "source": [
    "meas.regionprops_table(fp01_slic)"
   ]
  },
  {
   "cell_type": "code",
   "execution_count": 13,
   "metadata": {},
   "outputs": [
    {
     "data": {
      "text/plain": [
       "<matplotlib.image.AxesImage at 0x1279ad700>"
      ]
     },
     "execution_count": 13,
     "metadata": {},
     "output_type": "execute_result"
    },
    {
     "data": {
      "image/png": "[encoded data removed]",
      "text/plain": [
       "<Figure size 640x480 with 1 Axes>"
      ]
     },
     "metadata": {},
     "output_type": "display_data"
    }
   ],
   "source": [
    "border_color = [0,1,1]\n",
    "plt.imshow(mark_boundaries(fp01, fp01_slic, color=border_color))"
   ]
  },
  {
   "cell_type": "markdown",
   "metadata": {},
   "source": [
    "### Other algorithms"
   ]
  },
  {
   "cell_type": "code",
   "execution_count": 14,
   "metadata": {},
   "outputs": [
    {
     "data": {
      "text/plain": [
       "array([ 0,  1,  2,  3,  4,  5,  6,  7,  8,  9, 10, 11, 12, 13, 14, 15])"
      ]
     },
     "execution_count": 14,
     "metadata": {},
     "output_type": "execute_result"
    }
   ],
   "source": [
    "fp01_qs = seg.quickshift(fp01, max_dist=100)\n",
    "np.unique(fp01_qs)"
   ]
  },
  {
   "cell_type": "code",
   "execution_count": 15,
   "metadata": {},
   "outputs": [
    {
     "data": {
      "text/plain": [
       "array([0, 1, 2, 3])"
      ]
     },
     "execution_count": 15,
     "metadata": {},
     "output_type": "execute_result"
    }
   ],
   "source": [
    "fp01_fel = seg.felzenszwalb(fp01, min_size=300, channel_axis=2)\n",
    "np.unique(fp01_fel)"
   ]
  },
  {
   "cell_type": "code",
   "execution_count": 16,
   "metadata": {},
   "outputs": [
    {
     "data": {
      "text/plain": [
       "<matplotlib.image.AxesImage at 0x127a632e0>"
      ]
     },
     "execution_count": 16,
     "metadata": {},
     "output_type": "execute_result"
    },
    {
     "data": {
      "image/png": "[encoded data removed]",
      "text/plain": [
       "<Figure size 640x480 with 1 Axes>"
      ]
     },
     "metadata": {},
     "output_type": "display_data"
    }
   ],
   "source": [
    "border_color = [1,1,1]\n",
    "plt.imshow(mark_boundaries(fp01, fp01_fel, color=border_color))"
   ]
  },
  {
   "cell_type": "code",
   "execution_count": 17,
   "metadata": {},
   "outputs": [
    {
     "data": {
      "text/plain": [
       "{'label': array([1, 2, 3]),\n",
       " 'bbox-0': array([ 0,  0, 41]),\n",
       " 'bbox-1': array([ 87, 171,   0]),\n",
       " 'bbox-2': array([82, 82, 82]),\n",
       " 'bbox-3': array([171, 258,  87])}"
      ]
     },
     "execution_count": 17,
     "metadata": {},
     "output_type": "execute_result"
    }
   ],
   "source": [
    "meas.regionprops_table(fp01_fel)"
   ]
  },
  {
   "cell_type": "code",
   "execution_count": 18,
   "metadata": {},
   "outputs": [],
   "source": [
    "p = meas.regionprops(fp01_fel)"
   ]
  },
  {
   "cell_type": "code",
   "execution_count": 19,
   "metadata": {},
   "outputs": [
    {
     "data": {
      "text/plain": [
       "(0, 87, 82, 171)"
      ]
     },
     "execution_count": 19,
     "metadata": {},
     "output_type": "execute_result"
    }
   ],
   "source": [
    "p[0].bbox"
   ]
  },
  {
   "cell_type": "code",
   "execution_count": 20,
   "metadata": {},
   "outputs": [
    {
     "data": {
      "text/plain": [
       "(0, 171, 82, 258)"
      ]
     },
     "execution_count": 20,
     "metadata": {},
     "output_type": "execute_result"
    }
   ],
   "source": [
    "p[1].bbox"
   ]
  },
  {
   "cell_type": "markdown",
   "metadata": {},
   "source": [
    "## Astronaut example"
   ]
  },
  {
   "cell_type": "code",
   "execution_count": 21,
   "metadata": {},
   "outputs": [],
   "source": [
    "astronaut = data.astronaut()\n",
    "# image_show(astronaut);"
   ]
  },
  {
   "cell_type": "code",
   "execution_count": 22,
   "metadata": {},
   "outputs": [
    {
     "data": {
      "text/plain": [
       "(512, 512, 3)"
      ]
     },
     "execution_count": 22,
     "metadata": {},
     "output_type": "execute_result"
    }
   ],
   "source": [
    "astronaut.shape"
   ]
  },
  {
   "cell_type": "code",
   "execution_count": 23,
   "metadata": {},
   "outputs": [
    {
     "ename": "NameError",
     "evalue": "name 'image_show' is not defined",
     "output_type": "error",
     "traceback": [
      "\u001b[0;31m---------------------------------------------------------------------------\u001b[0m",
      "\u001b[0;31mNameError\u001b[0m                                 Traceback (most recent call last)",
      "\u001b[1;32m/Users/julietnwagwuume-ezeoke/_UILCode/gqe-phd/p1.1-generate/test01_fp2graph.ipynb Cell 25\u001b[0m line \u001b[0;36m2\n\u001b[1;32m      <a href='vscode-notebook-cell:/Users/julietnwagwuume-ezeoke/_UILCode/gqe-phd/p1.1-generate/test01_fp2graph.ipynb#X33sZmlsZQ%3D%3D?line=0'>1</a>\u001b[0m astronaut_slic \u001b[39m=\u001b[39m seg\u001b[39m.\u001b[39mslic(astronaut)\n\u001b[0;32m----> <a href='vscode-notebook-cell:/Users/julietnwagwuume-ezeoke/_UILCode/gqe-phd/p1.1-generate/test01_fp2graph.ipynb#X33sZmlsZQ%3D%3D?line=1'>2</a>\u001b[0m image_show(color\u001b[39m.\u001b[39mlabel2rgb(astronaut_slic, astronaut, kind\u001b[39m=\u001b[39m\u001b[39m'\u001b[39m\u001b[39mavg\u001b[39m\u001b[39m'\u001b[39m));\n",
      "\u001b[0;31mNameError\u001b[0m: name 'image_show' is not defined"
     ]
    }
   ],
   "source": [
    "astronaut_slic = seg.slic(astronaut)\n",
    "image_show(color.label2rgb(astronaut_slic, astronaut, kind='avg'));"
   ]
  },
  {
   "cell_type": "markdown",
   "metadata": {},
   "source": [
    "## Shapely "
   ]
  },
  {
   "cell_type": "code",
   "execution_count": null,
   "metadata": {},
   "outputs": [],
   "source": [
    "class Bbox():\n",
    "    def __init__(self, arr):\n",
    "        assert len(arr) == 4\n",
    "        self.min_row=arr[0]\n",
    "        self.min_col=arr[1]\n",
    "        self.max_row=arr[2]\n",
    "        self.max_col=arr[3]"
   ]
  },
  {
   "cell_type": "code",
   "execution_count": null,
   "metadata": {},
   "outputs": [
    {
     "data": {
      "text/plain": [
       "258"
      ]
     },
     "execution_count": 272,
     "metadata": {},
     "output_type": "execute_result"
    }
   ],
   "source": [
    "b1 = Bbox(p[1].bbox)\n",
    "b1.max_col"
   ]
  },
  {
   "cell_type": "code",
   "execution_count": null,
   "metadata": {},
   "outputs": [],
   "source": [
    "# def create_coords(b:Bbox): \n",
    "#     # clockwise from origin in bottom-left corner to match example: \n",
    "#     # https://shapely.readthedocs.io/en/stable/reference/shapely.LinearRing.html#shapely.LinearRing\n",
    "#     coords = [\n",
    "#         (b.min_row, b.min_col),\n",
    "#         (b.max_row, b.min_col),\n",
    "#         (b.max_row, b.max_col),\n",
    "#         (b.min_row, b.max_col),\n",
    "#     ]\n",
    "#     return coords"
   ]
  },
  {
   "cell_type": "code",
   "execution_count": null,
   "metadata": {},
   "outputs": [],
   "source": [
    "def create_coords(b:Bbox): \n",
    "    # clockwise from origin in bottom-left corner to match example: \n",
    "    # https://shapely.readthedocs.io/en/stable/reference/shapely.LinearRing.html#shapely.LinearRing\n",
    "    coords = [\n",
    "        # col ==> x, row ==> y \n",
    "        (b.min_col, b.min_row),\n",
    "        (b.max_col, b.min_row),\n",
    "        (b.max_col, b.max_row),\n",
    "        (b.min_col, b.max_row),\n",
    "    ]\n",
    "    return coords"
   ]
  },
  {
   "cell_type": "code",
   "execution_count": null,
   "metadata": {},
   "outputs": [],
   "source": [
    "# TODO make class for regions \n",
    "\n",
    "class Region():\n",
    "    def __init__(self):\n",
    "        self.bbox:list = None\n",
    "        self.coords:list = None\n",
    "        self.shape:Polygon = None\n",
    "        self.centroid:tuple = None\n",
    "\n"
   ]
  },
  {
   "cell_type": "code",
   "execution_count": null,
   "metadata": {},
   "outputs": [
    {
     "data": {
      "image/png": "[encoded data removed]",
      "text/plain": [
       "<Figure size 720x444.984 with 1 Axes>"
      ]
     },
     "metadata": {},
     "output_type": "display_data"
    }
   ],
   "source": [
    "GM = (np.sqrt(5)-1.0)/2.0\n",
    "W = 8\n",
    "H = W*GM\n",
    "SIZE = (W, H)\n",
    "\n",
    "fig = plt.figure(figsize=SIZE,  dpi=90)\n",
    "ax = fig.add_subplot(111)\n",
    "\n",
    "reg_d = {}\n",
    "colorway = ['#702632', '#A4B494', '#495867', '#912F40', \"#81909E\", \"#F4442E\", \"#DB7C26\", \"#BB9BB0\"]\n",
    "\n",
    "props = meas.regionprops(fp01_fel)\n",
    "\n",
    "for ix, p in enumerate(props): \n",
    "    reg_d[ix] = {}\n",
    "    reg_d[ix][\"bbox\"] = p.bbox\n",
    "    \n",
    "    coords = create_coords(Bbox(p.bbox))\n",
    "    reg_d[ix][\"coords\"] = coords\n",
    "    reg_d[ix][\"shape\"] = Polygon(coords)\n",
    "    reg_d[ix][\"centroid\"] = (reg_d[ix][\"shape\"].centroid.x, reg_d[ix][\"shape\"].centroid.y)\n",
    "\n",
    "    splt.plot_polygon(reg_d[ix][\"shape\"], ax=ax, alpha=0.4, color=colorway[ix])\n",
    "    ax.annotate(str(ix), reg_d[ix][\"centroid\"])"
   ]
  },
  {
   "cell_type": "code",
   "execution_count": null,
   "metadata": {},
   "outputs": [
    {
     "data": {
      "text/plain": [
       "{'bbox': (0, 87, 82, 171),\n",
       " 'coords': [(87, 0), (171, 0), (171, 82), (87, 82)],\n",
       " 'shape': <POLYGON ((87 0, 171 0, 171 82, 87 82, 87 0))>,\n",
       " 'centroid': (129.0, 41.0)}"
      ]
     },
     "execution_count": 276,
     "metadata": {},
     "output_type": "execute_result"
    }
   ],
   "source": [
    "reg_d[0]"
   ]
  },
  {
   "cell_type": "code",
   "execution_count": null,
   "metadata": {},
   "outputs": [],
   "source": [
    "def check_adjacency(curr_node_ix:int, nb_node_ix:int):\n",
    "    # shapely check for adjacency \n",
    "    check = reg_d[curr_node_ix][\"shape\"].touches(reg_d[nb_node_ix][\"shape\"])\n",
    "    return int(check) # True = 1, False = 0"
   ]
  },
  {
   "cell_type": "markdown",
   "metadata": {},
   "source": [
    "## create adjacency graph"
   ]
  },
  {
   "cell_type": "code",
   "execution_count": null,
   "metadata": {},
   "outputs": [],
   "source": [
    "def draw_graph(self):\n",
    "    pos = nx.spring_layout(self.CG)\n",
    "    nx.draw_networkx_nodes(self.CG, pos)\n",
    "    nx.draw_networkx_edges(self.CG, pos, )\n",
    "    nx.draw_networkx_labels(self.CG, pos)\n",
    "    self.CG_edge_labels = nx.draw_networkx_edge_labels(self.CG, pos)\n",
    "    return plt\n",
    "\n",
    "    # plt.show()"
   ]
  },
  {
   "cell_type": "code",
   "execution_count": null,
   "metadata": {},
   "outputs": [],
   "source": [
    "def draw_graph(CG):\n",
    "    pos = nx.spring_layout(CG)\n",
    "    nx.draw_networkx_nodes(CG, pos)\n",
    "    nx.draw_networkx_edges(CG, pos, )\n",
    "    nx.draw_networkx_labels(CG, pos)\n",
    "    k = nx.draw_networkx_edge_labels(CG, pos, )\n",
    "    return plt\n",
    "\n",
    "    # plt.show()"
   ]
  },
  {
   "cell_type": "code",
   "execution_count": null,
   "metadata": {},
   "outputs": [
    {
     "data": {
      "text/plain": [
       "<module 'matplotlib.pyplot' from '/Users/julietnwagwuume-ezeoke/_UILCode/gqe-phd/gqenv/lib/python3.9/site-packages/matplotlib/pyplot.py'>"
      ]
     },
     "execution_count": 280,
     "metadata": {},
     "output_type": "execute_result"
    },
    {
     "data": {
      "image/png": "[encoded data removed]",
      "text/plain": [
       "<Figure size 640x480 with 1 Axes>"
      ]
     },
     "metadata": {},
     "output_type": "display_data"
    }
   ],
   "source": [
    "# initialize fully connected graph with edge adjacency init to 0 \n",
    "n_nodes = 3 #TODO get infor from image segmentaion part.. \n",
    "CG = nx.complete_graph(n_nodes)  \n",
    "\n",
    "# set edge properties -> 0 = all unconnected to begin \n",
    "init_adj = np.zeros((n_nodes, n_nodes))\n",
    "\n",
    "# need to have labels / indices for the edge properties that explicitly index into the matrix \n",
    "n = np.linspace(0,n_nodes-1,n_nodes)\n",
    "X2D,Y2D = np.meshgrid(n,n)\n",
    "X2D, Y2D\n",
    "attrs = {(x,y): {\"adj\": i, } for x,y,i in zip(Y2D.ravel(),X2D.ravel(), init_adj.ravel())}\n",
    "attrs\n",
    "nx.set_edge_attributes(CG, attrs)\n",
    "draw_graph(CG)"
   ]
  },
  {
   "cell_type": "code",
   "execution_count": null,
   "metadata": {},
   "outputs": [],
   "source": [
    "def check_adjacency(curr_region:Region.shape, nb_region:Region.shape):\n",
    "    # shapely check for adjacency \n",
    "    check = curr_region.touches(nb_region)\n",
    "    return int(check) # True = 1, False = 0"
   ]
  },
  {
   "cell_type": "code",
   "execution_count": null,
   "metadata": {},
   "outputs": [
    {
     "data": {
      "text/plain": [
       "<module 'matplotlib.pyplot' from '/Users/julietnwagwuume-ezeoke/_UILCode/gqe-phd/gqenv/lib/python3.9/site-packages/matplotlib/pyplot.py'>"
      ]
     },
     "execution_count": 281,
     "metadata": {},
     "output_type": "execute_result"
    },
    {
     "data": {
      "image/png": "[encoded data removed]",
      "text/plain": [
       "<Figure size 640x480 with 1 Axes>"
      ]
     },
     "metadata": {},
     "output_type": "display_data"
    }
   ],
   "source": [
    "# check adjacency based on shapely connections\n",
    "for n in CG.nodes:\n",
    "    neighbors = list(nx.bfs_edges(CG, source=0, depth_limit=1))\n",
    "    for pair in neighbors:\n",
    "        if CG.edges[pair][\"adj\"] == 0:\n",
    "            adj_val = check_adjacency(pair[0], pair[1])\n",
    "            CG.edges[pair][\"adj\"] = adj_val\n",
    "\n",
    "draw_graph(CG)"
   ]
  },
  {
   "cell_type": "code",
   "execution_count": null,
   "metadata": {},
   "outputs": [],
   "source": [
    "for e in self.CG.edges:\n",
    "    if self.CG.edges[e][\"adj\"] == 0:\n",
    "        self.CG.remove_edge(*e)"
   ]
  },
  {
   "cell_type": "code",
   "execution_count": null,
   "metadata": {},
   "outputs": [
    {
     "data": {
      "text/plain": [
       "<module 'matplotlib.pyplot' from '/Users/julietnwagwuume-ezeoke/_UILCode/gqe-phd/gqenv/lib/python3.9/site-packages/matplotlib/pyplot.py'>"
      ]
     },
     "execution_count": 282,
     "metadata": {},
     "output_type": "execute_result"
    },
    {
     "data": {
      "image/png": "[encoded data removed]",
      "text/plain": [
       "<Figure size 640x480 with 1 Axes>"
      ]
     },
     "metadata": {},
     "output_type": "display_data"
    }
   ],
   "source": [
    "# remove edges where adjacency is 0\n",
    "for e in CG.edges:\n",
    "    if CG.edges[e][\"adj\"] == 0:\n",
    "        CG.remove_edge(*e)\n",
    "\n",
    "draw_graph(CG)"
   ]
  }
 ],
 "metadata": {
  "kernelspec": {
   "display_name": "gqenv",
   "language": "python",
   "name": "python3"
  },
  "language_info": {
   "codemirror_mode": {
    "name": "ipython",
    "version": 3
   },
   "file_extension": ".py",
   "mimetype": "text/x-python",
   "name": "python",
   "nbconvert_exporter": "python",
   "pygments_lexer": "ipython3",
   "version": "3.9.15"
  }
 },
 "nbformat": 4,
 "nbformat_minor": 2
}
