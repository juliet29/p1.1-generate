{
 "cells": [
  {
   "cell_type": "code",
   "execution_count": 1,
   "metadata": {},
   "outputs": [],
   "source": [
    "from sklearn.cluster import KMeans\n",
    "import matplotlib.pyplot as plt\n",
    "import numpy as np\n",
    "import skimage.measure as meas\n",
    "\n",
    "from skimage.segmentation import mark_boundaries\n",
    "import skimage.measure as meas\n",
    "\n",
    "import imageio.v3 as iio\n",
    "import pandas as pd\n",
    "import skimage.segmentation as seg"
   ]
  },
  {
   "cell_type": "code",
   "execution_count": 2,
   "metadata": {},
   "outputs": [
    {
     "name": "stdout",
     "output_type": "stream",
     "text": [
      "{'dpi': (72.009, 72.009), 'srgb': 0, 'gamma': 0.45455, 'mode': 'RGBA', 'shape': (258, 82)}\n"
     ]
    }
   ],
   "source": [
    "PATH = 'plans/fp02.png'\n",
    "metadata = iio.immeta(PATH)\n",
    "print(metadata)\n",
    "# fp01 = imageio.v3.imread('plans/fp01.png', pilmode='RGB')\n",
    "# fp01 = iio.imread(PATH)\n",
    "fp01 = iio.imread(PATH, pilmode='RGB')"
   ]
  },
  {
   "cell_type": "code",
   "execution_count": 3,
   "metadata": {},
   "outputs": [
    {
     "data": {
      "text/plain": [
       "(82, 258, 3)"
      ]
     },
     "execution_count": 3,
     "metadata": {},
     "output_type": "execute_result"
    }
   ],
   "source": [
    "fp01.shape"
   ]
  },
  {
   "cell_type": "code",
   "execution_count": 4,
   "metadata": {},
   "outputs": [
    {
     "data": {
      "text/plain": [
       "(21156, 3)"
      ]
     },
     "execution_count": 4,
     "metadata": {},
     "output_type": "execute_result"
    }
   ],
   "source": [
    "fp01.reshape((-1,3)).shape # 82*258"
   ]
  },
  {
   "cell_type": "code",
   "execution_count": 5,
   "metadata": {},
   "outputs": [
    {
     "data": {
      "text/plain": [
       "(82, 258, 3)"
      ]
     },
     "execution_count": 5,
     "metadata": {},
     "output_type": "execute_result"
    }
   ],
   "source": [
    "fp01_2d = fp01.reshape((-1,3))\n",
    "reshaped = fp01_2d.reshape((82,258,3))\n",
    "reshaped.shape"
   ]
  },
  {
   "cell_type": "code",
   "execution_count": 6,
   "metadata": {},
   "outputs": [
    {
     "data": {
      "text/plain": [
       "True"
      ]
     },
     "execution_count": 6,
     "metadata": {},
     "output_type": "execute_result"
    }
   ],
   "source": [
    "np.array_equal(fp01, reshaped)"
   ]
  },
  {
   "cell_type": "code",
   "execution_count": 7,
   "metadata": {},
   "outputs": [
    {
     "data": {
      "text/html": [
       "<div>\n",
       "<style scoped>\n",
       "    .dataframe tbody tr th:only-of-type {\n",
       "        vertical-align: middle;\n",
       "    }\n",
       "\n",
       "    .dataframe tbody tr th {\n",
       "        vertical-align: top;\n",
       "    }\n",
       "\n",
       "    .dataframe thead th {\n",
       "        text-align: right;\n",
       "    }\n",
       "</style>\n",
       "<table border=\"1\" class=\"dataframe\">\n",
       "  <thead>\n",
       "    <tr style=\"text-align: right;\">\n",
       "      <th></th>\n",
       "      <th>R</th>\n",
       "      <th>G</th>\n",
       "      <th>B</th>\n",
       "    </tr>\n",
       "  </thead>\n",
       "  <tbody>\n",
       "    <tr>\n",
       "      <th>0</th>\n",
       "      <td>255</td>\n",
       "      <td>0</td>\n",
       "      <td>0</td>\n",
       "    </tr>\n",
       "    <tr>\n",
       "      <th>1</th>\n",
       "      <td>255</td>\n",
       "      <td>0</td>\n",
       "      <td>0</td>\n",
       "    </tr>\n",
       "    <tr>\n",
       "      <th>2</th>\n",
       "      <td>255</td>\n",
       "      <td>0</td>\n",
       "      <td>0</td>\n",
       "    </tr>\n",
       "    <tr>\n",
       "      <th>3</th>\n",
       "      <td>255</td>\n",
       "      <td>0</td>\n",
       "      <td>0</td>\n",
       "    </tr>\n",
       "    <tr>\n",
       "      <th>4</th>\n",
       "      <td>255</td>\n",
       "      <td>0</td>\n",
       "      <td>0</td>\n",
       "    </tr>\n",
       "    <tr>\n",
       "      <th>...</th>\n",
       "      <td>...</td>\n",
       "      <td>...</td>\n",
       "      <td>...</td>\n",
       "    </tr>\n",
       "    <tr>\n",
       "      <th>21151</th>\n",
       "      <td>255</td>\n",
       "      <td>255</td>\n",
       "      <td>0</td>\n",
       "    </tr>\n",
       "    <tr>\n",
       "      <th>21152</th>\n",
       "      <td>255</td>\n",
       "      <td>255</td>\n",
       "      <td>0</td>\n",
       "    </tr>\n",
       "    <tr>\n",
       "      <th>21153</th>\n",
       "      <td>255</td>\n",
       "      <td>255</td>\n",
       "      <td>0</td>\n",
       "    </tr>\n",
       "    <tr>\n",
       "      <th>21154</th>\n",
       "      <td>255</td>\n",
       "      <td>255</td>\n",
       "      <td>0</td>\n",
       "    </tr>\n",
       "    <tr>\n",
       "      <th>21155</th>\n",
       "      <td>255</td>\n",
       "      <td>255</td>\n",
       "      <td>0</td>\n",
       "    </tr>\n",
       "  </tbody>\n",
       "</table>\n",
       "<p>21156 rows × 3 columns</p>\n",
       "</div>"
      ],
      "text/plain": [
       "         R    G  B\n",
       "0      255    0  0\n",
       "1      255    0  0\n",
       "2      255    0  0\n",
       "3      255    0  0\n",
       "4      255    0  0\n",
       "...    ...  ... ..\n",
       "21151  255  255  0\n",
       "21152  255  255  0\n",
       "21153  255  255  0\n",
       "21154  255  255  0\n",
       "21155  255  255  0\n",
       "\n",
       "[21156 rows x 3 columns]"
      ]
     },
     "execution_count": 7,
     "metadata": {},
     "output_type": "execute_result"
    }
   ],
   "source": [
    "df = pd.DataFrame(fp01_2d, columns=[\"R\", \"G\", \"B\"])\n",
    "df"
   ]
  },
  {
   "cell_type": "code",
   "execution_count": 8,
   "metadata": {},
   "outputs": [],
   "source": [
    "df[\"Label\"] = np.zeros(len(df))"
   ]
  },
  {
   "cell_type": "code",
   "execution_count": 9,
   "metadata": {},
   "outputs": [
    {
     "data": {
      "text/html": [
       "<div>\n",
       "<style scoped>\n",
       "    .dataframe tbody tr th:only-of-type {\n",
       "        vertical-align: middle;\n",
       "    }\n",
       "\n",
       "    .dataframe tbody tr th {\n",
       "        vertical-align: top;\n",
       "    }\n",
       "\n",
       "    .dataframe thead th {\n",
       "        text-align: right;\n",
       "    }\n",
       "</style>\n",
       "<table border=\"1\" class=\"dataframe\">\n",
       "  <thead>\n",
       "    <tr style=\"text-align: right;\">\n",
       "      <th></th>\n",
       "      <th>R</th>\n",
       "      <th>G</th>\n",
       "      <th>B</th>\n",
       "      <th>Label</th>\n",
       "    </tr>\n",
       "  </thead>\n",
       "  <tbody>\n",
       "    <tr>\n",
       "      <th>0</th>\n",
       "      <td>255</td>\n",
       "      <td>0</td>\n",
       "      <td>0</td>\n",
       "      <td>0.0</td>\n",
       "    </tr>\n",
       "    <tr>\n",
       "      <th>1</th>\n",
       "      <td>255</td>\n",
       "      <td>0</td>\n",
       "      <td>0</td>\n",
       "      <td>0.0</td>\n",
       "    </tr>\n",
       "    <tr>\n",
       "      <th>2</th>\n",
       "      <td>255</td>\n",
       "      <td>0</td>\n",
       "      <td>0</td>\n",
       "      <td>0.0</td>\n",
       "    </tr>\n",
       "    <tr>\n",
       "      <th>3</th>\n",
       "      <td>255</td>\n",
       "      <td>0</td>\n",
       "      <td>0</td>\n",
       "      <td>0.0</td>\n",
       "    </tr>\n",
       "    <tr>\n",
       "      <th>4</th>\n",
       "      <td>255</td>\n",
       "      <td>0</td>\n",
       "      <td>0</td>\n",
       "      <td>0.0</td>\n",
       "    </tr>\n",
       "    <tr>\n",
       "      <th>...</th>\n",
       "      <td>...</td>\n",
       "      <td>...</td>\n",
       "      <td>...</td>\n",
       "      <td>...</td>\n",
       "    </tr>\n",
       "    <tr>\n",
       "      <th>21151</th>\n",
       "      <td>255</td>\n",
       "      <td>255</td>\n",
       "      <td>0</td>\n",
       "      <td>0.0</td>\n",
       "    </tr>\n",
       "    <tr>\n",
       "      <th>21152</th>\n",
       "      <td>255</td>\n",
       "      <td>255</td>\n",
       "      <td>0</td>\n",
       "      <td>0.0</td>\n",
       "    </tr>\n",
       "    <tr>\n",
       "      <th>21153</th>\n",
       "      <td>255</td>\n",
       "      <td>255</td>\n",
       "      <td>0</td>\n",
       "      <td>0.0</td>\n",
       "    </tr>\n",
       "    <tr>\n",
       "      <th>21154</th>\n",
       "      <td>255</td>\n",
       "      <td>255</td>\n",
       "      <td>0</td>\n",
       "      <td>0.0</td>\n",
       "    </tr>\n",
       "    <tr>\n",
       "      <th>21155</th>\n",
       "      <td>255</td>\n",
       "      <td>255</td>\n",
       "      <td>0</td>\n",
       "      <td>0.0</td>\n",
       "    </tr>\n",
       "  </tbody>\n",
       "</table>\n",
       "<p>21156 rows × 4 columns</p>\n",
       "</div>"
      ],
      "text/plain": [
       "         R    G  B  Label\n",
       "0      255    0  0    0.0\n",
       "1      255    0  0    0.0\n",
       "2      255    0  0    0.0\n",
       "3      255    0  0    0.0\n",
       "4      255    0  0    0.0\n",
       "...    ...  ... ..    ...\n",
       "21151  255  255  0    0.0\n",
       "21152  255  255  0    0.0\n",
       "21153  255  255  0    0.0\n",
       "21154  255  255  0    0.0\n",
       "21155  255  255  0    0.0\n",
       "\n",
       "[21156 rows x 4 columns]"
      ]
     },
     "execution_count": 9,
     "metadata": {},
     "output_type": "execute_result"
    }
   ],
   "source": [
    "df"
   ]
  },
  {
   "cell_type": "code",
   "execution_count": 20,
   "metadata": {},
   "outputs": [],
   "source": [
    "groups = df.groupby([\"R\", \"G\", \"B\"]).groups\n",
    "for ix, k in enumerate(groups.keys()):\n",
    "    # print(k, groups[k])\n",
    "    # # print(k)\n",
    "    for i in list(groups[k]):\n",
    "        df.at[i, \"Label\"] = int(ix)"
   ]
  },
  {
   "cell_type": "code",
   "execution_count": 23,
   "metadata": {},
   "outputs": [
    {
     "data": {
      "text/plain": [
       "array([1., 2., 0., 3.])"
      ]
     },
     "execution_count": 23,
     "metadata": {},
     "output_type": "execute_result"
    }
   ],
   "source": [
    "df[\"Label\"].unique()"
   ]
  },
  {
   "cell_type": "code",
   "execution_count": 24,
   "metadata": {},
   "outputs": [
    {
     "ename": "ValueError",
     "evalue": "cannot reshape array of size 21154 into shape (82,258)",
     "output_type": "error",
     "traceback": [
      "\u001b[0;31m---------------------------------------------------------------------------\u001b[0m",
      "\u001b[0;31mValueError\u001b[0m                                Traceback (most recent call last)",
      "\u001b[1;32m/Users/julietnwagwuume-ezeoke/_UILCode/gqe-phd/p1.1-generate/test02_kmeans.ipynb Cell 14\u001b[0m line \u001b[0;36m1\n\u001b[0;32m----> <a href='vscode-notebook-cell:/Users/julietnwagwuume-ezeoke/_UILCode/gqe-phd/p1.1-generate/test02_kmeans.ipynb#X16sZmlsZQ%3D%3D?line=0'>1</a>\u001b[0m fp01_split \u001b[39m=\u001b[39m np\u001b[39m.\u001b[39;49marray(df[\u001b[39m\"\u001b[39;49m\u001b[39mLabel\u001b[39;49m\u001b[39m\"\u001b[39;49m])\u001b[39m.\u001b[39;49mreshape([\u001b[39m82\u001b[39;49m,\u001b[39m258\u001b[39;49m])\n\u001b[1;32m      <a href='vscode-notebook-cell:/Users/julietnwagwuume-ezeoke/_UILCode/gqe-phd/p1.1-generate/test02_kmeans.ipynb#X16sZmlsZQ%3D%3D?line=1'>2</a>\u001b[0m fp01_split\n",
      "\u001b[0;31mValueError\u001b[0m: cannot reshape array of size 21154 into shape (82,258)"
     ]
    }
   ],
   "source": [
    "fp01_split = np.array(df[\"Label\"]).reshape([82,258])\n",
    "fp01_split"
   ]
  },
  {
   "cell_type": "code",
   "execution_count": null,
   "metadata": {},
   "outputs": [
    {
     "data": {
      "text/plain": [
       "array([[1, 1, 1, ..., 3, 3, 3],\n",
       "       [1, 1, 1, ..., 3, 3, 3],\n",
       "       [1, 1, 1, ..., 3, 3, 3],\n",
       "       ...,\n",
       "       [1, 1, 1, ..., 3, 3, 3],\n",
       "       [1, 1, 1, ..., 3, 3, 3],\n",
       "       [1, 1, 1, ..., 3, 3, 3]])"
      ]
     },
     "execution_count": 74,
     "metadata": {},
     "output_type": "execute_result"
    }
   ],
   "source": [
    "fp01_slic = seg.slic(fp01, n_segments=4, channel_axis=2)\n",
    "fp01_slic"
   ]
  },
  {
   "cell_type": "code",
   "execution_count": null,
   "metadata": {},
   "outputs": [
    {
     "ename": "ValueError",
     "evalue": "Invalid integer data type 'f'.",
     "output_type": "error",
     "traceback": [
      "\u001b[0;31m---------------------------------------------------------------------------\u001b[0m",
      "\u001b[0;31mValueError\u001b[0m                                Traceback (most recent call last)",
      "\u001b[1;32m/Users/julietnwagwuume-ezeoke/_UILCode/gqe-phd/p1.1-generate/test2_kmeans.ipynb Cell 14\u001b[0m line \u001b[0;36m2\n\u001b[1;32m      <a href='vscode-notebook-cell:/Users/julietnwagwuume-ezeoke/_UILCode/gqe-phd/p1.1-generate/test2_kmeans.ipynb#X33sZmlsZQ%3D%3D?line=0'>1</a>\u001b[0m border_color \u001b[39m=\u001b[39m [\u001b[39m0\u001b[39m,\u001b[39m1\u001b[39m,\u001b[39m1\u001b[39m]\n\u001b[0;32m----> <a href='vscode-notebook-cell:/Users/julietnwagwuume-ezeoke/_UILCode/gqe-phd/p1.1-generate/test2_kmeans.ipynb#X33sZmlsZQ%3D%3D?line=1'>2</a>\u001b[0m plt\u001b[39m.\u001b[39mimshow(mark_boundaries(fp01, fp01_split, color\u001b[39m=\u001b[39;49mborder_color))\n",
      "File \u001b[0;32m~/_UILCode/gqe-phd/gqenv/lib/python3.9/site-packages/skimage/segmentation/boundaries.py:233\u001b[0m, in \u001b[0;36mmark_boundaries\u001b[0;34m(image, label_img, color, outline_color, mode, background_label)\u001b[0m\n\u001b[1;32m    226\u001b[0m \u001b[39mif\u001b[39;00m mode \u001b[39m==\u001b[39m \u001b[39m'\u001b[39m\u001b[39msubpixel\u001b[39m\u001b[39m'\u001b[39m:\n\u001b[1;32m    227\u001b[0m     \u001b[39m# Here, we want to interpose an extra line of pixels between\u001b[39;00m\n\u001b[1;32m    228\u001b[0m     \u001b[39m# each original line - except for the last axis which holds\u001b[39;00m\n\u001b[1;32m    229\u001b[0m     \u001b[39m# the RGB information. ``ndi.zoom`` then performs the (cubic)\u001b[39;00m\n\u001b[1;32m    230\u001b[0m     \u001b[39m# interpolation, filling in the values of the interposed pixels\u001b[39;00m\n\u001b[1;32m    231\u001b[0m     marked \u001b[39m=\u001b[39m ndi\u001b[39m.\u001b[39mzoom(marked, [\u001b[39m2\u001b[39m \u001b[39m-\u001b[39m \u001b[39m1\u001b[39m\u001b[39m/\u001b[39ms \u001b[39mfor\u001b[39;00m s \u001b[39min\u001b[39;00m marked\u001b[39m.\u001b[39mshape[:\u001b[39m-\u001b[39m\u001b[39m1\u001b[39m]] \u001b[39m+\u001b[39m [\u001b[39m1\u001b[39m],\n\u001b[1;32m    232\u001b[0m                       mode\u001b[39m=\u001b[39m\u001b[39m'\u001b[39m\u001b[39mmirror\u001b[39m\u001b[39m'\u001b[39m)\n\u001b[0;32m--> 233\u001b[0m boundaries \u001b[39m=\u001b[39m find_boundaries(label_img, mode\u001b[39m=\u001b[39;49mmode,\n\u001b[1;32m    234\u001b[0m                              background\u001b[39m=\u001b[39;49mbackground_label)\n\u001b[1;32m    235\u001b[0m \u001b[39mif\u001b[39;00m outline_color \u001b[39mis\u001b[39;00m \u001b[39mnot\u001b[39;00m \u001b[39mNone\u001b[39;00m:\n\u001b[1;32m    236\u001b[0m     outlines \u001b[39m=\u001b[39m dilation(boundaries, square(\u001b[39m3\u001b[39m))\n",
      "File \u001b[0;32m~/_UILCode/gqe-phd/gqenv/lib/python3.9/site-packages/skimage/segmentation/boundaries.py:171\u001b[0m, in \u001b[0;36mfind_boundaries\u001b[0;34m(label_img, connectivity, mode, background)\u001b[0m\n\u001b[1;32m    169\u001b[0m     boundaries \u001b[39m&\u001b[39m\u001b[39m=\u001b[39m foreground_image\n\u001b[1;32m    170\u001b[0m \u001b[39melif\u001b[39;00m mode \u001b[39m==\u001b[39m \u001b[39m'\u001b[39m\u001b[39mouter\u001b[39m\u001b[39m'\u001b[39m:\n\u001b[0;32m--> 171\u001b[0m     max_label \u001b[39m=\u001b[39m np\u001b[39m.\u001b[39;49miinfo(label_img\u001b[39m.\u001b[39;49mdtype)\u001b[39m.\u001b[39mmax\n\u001b[1;32m    172\u001b[0m     background_image \u001b[39m=\u001b[39m (label_img \u001b[39m==\u001b[39m background)\n\u001b[1;32m    173\u001b[0m     footprint \u001b[39m=\u001b[39m ndi\u001b[39m.\u001b[39mgenerate_binary_structure(ndim, ndim)\n",
      "File \u001b[0;32m~/_UILCode/gqe-phd/gqenv/lib/python3.9/site-packages/numpy/core/getlimits.py:694\u001b[0m, in \u001b[0;36miinfo.__init__\u001b[0;34m(self, int_type)\u001b[0m\n\u001b[1;32m    692\u001b[0m \u001b[39mself\u001b[39m\u001b[39m.\u001b[39mkey \u001b[39m=\u001b[39m \u001b[39m\"\u001b[39m\u001b[39m%s\u001b[39;00m\u001b[39m%d\u001b[39;00m\u001b[39m\"\u001b[39m \u001b[39m%\u001b[39m (\u001b[39mself\u001b[39m\u001b[39m.\u001b[39mkind, \u001b[39mself\u001b[39m\u001b[39m.\u001b[39mbits)\n\u001b[1;32m    693\u001b[0m \u001b[39mif\u001b[39;00m \u001b[39mself\u001b[39m\u001b[39m.\u001b[39mkind \u001b[39mnot\u001b[39;00m \u001b[39min\u001b[39;00m \u001b[39m'\u001b[39m\u001b[39miu\u001b[39m\u001b[39m'\u001b[39m:\n\u001b[0;32m--> 694\u001b[0m     \u001b[39mraise\u001b[39;00m \u001b[39mValueError\u001b[39;00m(\u001b[39m\"\u001b[39m\u001b[39mInvalid integer data type \u001b[39m\u001b[39m%r\u001b[39;00m\u001b[39m.\u001b[39m\u001b[39m\"\u001b[39m \u001b[39m%\u001b[39m (\u001b[39mself\u001b[39m\u001b[39m.\u001b[39mkind,))\n",
      "\u001b[0;31mValueError\u001b[0m: Invalid integer data type 'f'."
     ]
    }
   ],
   "source": [
    "border_color = [0,1,1]\n",
    "plt.imshow(mark_boundaries(fp01, fp01_split, color=border_color))"
   ]
  },
  {
   "cell_type": "markdown",
   "metadata": {},
   "source": [
    "# test stuff..."
   ]
  },
  {
   "cell_type": "code",
   "execution_count": null,
   "metadata": {},
   "outputs": [
    {
     "data": {
      "text/plain": [
       "Int64Index([    0,     1,     2,     3,     4,     5,     6,     7,     8,\n",
       "                9,\n",
       "            ...\n",
       "            10397, 10398, 10399, 10400, 10401, 10402, 10403, 10404, 10405,\n",
       "            10406],\n",
       "           dtype='int64', length=3567)"
      ]
     },
     "execution_count": 34,
     "metadata": {},
     "output_type": "execute_result"
    }
   ],
   "source": [
    "df.groupby([\"R\", \"G\", \"B\"]).groups[(-1, 0, 0)]"
   ]
  },
  {
   "cell_type": "code",
   "execution_count": null,
   "metadata": {},
   "outputs": [
    {
     "data": {
      "text/plain": [
       "Int64Index([   87,    88,    89,    90,    91,    92,    93,    94,    95,\n",
       "               96,\n",
       "            ...\n",
       "            21059, 21060, 21061, 21062, 21063, 21064, 21065, 21066, 21067,\n",
       "            21068],\n",
       "           dtype='int64', length=6888)"
      ]
     },
     "execution_count": 35,
     "metadata": {},
     "output_type": "execute_result"
    }
   ],
   "source": [
    "df.groupby([\"R\", \"G\", \"B\"]).groups[(0, -1, 0)]"
   ]
  },
  {
   "cell_type": "code",
   "execution_count": null,
   "metadata": {},
   "outputs": [
    {
     "data": {
      "text/plain": [
       "Int64Index([10578, 10579, 10580, 10581, 10582, 10583, 10584, 10585, 10586,\n",
       "            10587,\n",
       "            ...\n",
       "            20975, 20976, 20977, 20978, 20979, 20980, 20981, 20982, 20983,\n",
       "            20984],\n",
       "           dtype='int64', length=3567)"
      ]
     },
     "execution_count": 36,
     "metadata": {},
     "output_type": "execute_result"
    }
   ],
   "source": [
    "df.groupby([\"R\", \"G\", \"B\"]).groups[(0, 0, -1)]"
   ]
  }
 ],
 "metadata": {
  "kernelspec": {
   "display_name": "gqenv",
   "language": "python",
   "name": "python3"
  },
  "language_info": {
   "codemirror_mode": {
    "name": "ipython",
    "version": 3
   },
   "file_extension": ".py",
   "mimetype": "text/x-python",
   "name": "python",
   "nbconvert_exporter": "python",
   "pygments_lexer": "ipython3",
   "version": "3.9.15"
  }
 },
 "nbformat": 4,
 "nbformat_minor": 2
}
